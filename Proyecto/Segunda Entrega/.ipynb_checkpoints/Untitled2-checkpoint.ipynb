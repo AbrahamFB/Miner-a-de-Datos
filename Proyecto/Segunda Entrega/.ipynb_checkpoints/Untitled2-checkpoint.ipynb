{
 "cells": [
  {
   "cell_type": "markdown",
   "metadata": {},
   "source": [
    "# Carga de librerías\n"
   ]
  },
  {
   "cell_type": "code",
   "execution_count": 190,
   "metadata": {},
   "outputs": [],
   "source": [
    "import numpy as np\n",
    "import pandas as pd \n",
    "import matplotlib.pyplot as plt\n",
    "from sklearn.decomposition import PCA\n",
    "from sklearn.preprocessing import StandardScaler\n",
    "%matplotlib inline"
   ]
  },
  {
   "cell_type": "markdown",
   "metadata": {},
   "source": [
    "# Carga de datos"
   ]
  },
  {
   "cell_type": "code",
   "execution_count": 191,
   "metadata": {},
   "outputs": [
    {
     "data": {
      "text/html": [
       "<div>\n",
       "<style scoped>\n",
       "    .dataframe tbody tr th:only-of-type {\n",
       "        vertical-align: middle;\n",
       "    }\n",
       "\n",
       "    .dataframe tbody tr th {\n",
       "        vertical-align: top;\n",
       "    }\n",
       "\n",
       "    .dataframe thead th {\n",
       "        text-align: right;\n",
       "    }\n",
       "</style>\n",
       "<table border=\"1\" class=\"dataframe\">\n",
       "  <thead>\n",
       "    <tr style=\"text-align: right;\">\n",
       "      <th></th>\n",
       "      <th>q</th>\n",
       "      <th>w</th>\n",
       "      <th>e</th>\n",
       "      <th>r</th>\n",
       "      <th>t</th>\n",
       "      <th>y</th>\n",
       "      <th>u</th>\n",
       "      <th>i</th>\n",
       "      <th>o</th>\n",
       "      <th>p</th>\n",
       "      <th>a</th>\n",
       "      <th>s</th>\n",
       "      <th>d</th>\n",
       "      <th>f</th>\n",
       "      <th>g</th>\n",
       "      <th>h</th>\n",
       "      <th>j</th>\n",
       "      <th>k</th>\n",
       "      <th>l</th>\n",
       "    </tr>\n",
       "  </thead>\n",
       "  <tbody>\n",
       "    <tr>\n",
       "      <th>0</th>\n",
       "      <td>140</td>\n",
       "      <td>125</td>\n",
       "      <td>0.0</td>\n",
       "      <td>0.000000</td>\n",
       "      <td>0.277778</td>\n",
       "      <td>0.062963</td>\n",
       "      <td>0.666667</td>\n",
       "      <td>0.311111</td>\n",
       "      <td>6.185185</td>\n",
       "      <td>7.333334</td>\n",
       "      <td>7.666666</td>\n",
       "      <td>3.555556</td>\n",
       "      <td>3.444444</td>\n",
       "      <td>4.444445</td>\n",
       "      <td>-7.888889</td>\n",
       "      <td>7.777778</td>\n",
       "      <td>0.545635</td>\n",
       "      <td>-1.121818</td>\n",
       "      <td>0</td>\n",
       "    </tr>\n",
       "    <tr>\n",
       "      <th>1</th>\n",
       "      <td>188</td>\n",
       "      <td>133</td>\n",
       "      <td>0.0</td>\n",
       "      <td>0.000000</td>\n",
       "      <td>0.333333</td>\n",
       "      <td>0.266667</td>\n",
       "      <td>0.500000</td>\n",
       "      <td>0.077778</td>\n",
       "      <td>6.666666</td>\n",
       "      <td>8.333334</td>\n",
       "      <td>7.777778</td>\n",
       "      <td>3.888889</td>\n",
       "      <td>5.000000</td>\n",
       "      <td>3.333333</td>\n",
       "      <td>-8.333333</td>\n",
       "      <td>8.444445</td>\n",
       "      <td>0.538580</td>\n",
       "      <td>-0.924817</td>\n",
       "      <td>0</td>\n",
       "    </tr>\n",
       "    <tr>\n",
       "      <th>2</th>\n",
       "      <td>105</td>\n",
       "      <td>139</td>\n",
       "      <td>0.0</td>\n",
       "      <td>0.000000</td>\n",
       "      <td>0.277778</td>\n",
       "      <td>0.107407</td>\n",
       "      <td>0.833333</td>\n",
       "      <td>0.522222</td>\n",
       "      <td>6.111111</td>\n",
       "      <td>7.555555</td>\n",
       "      <td>7.222222</td>\n",
       "      <td>3.555556</td>\n",
       "      <td>4.333334</td>\n",
       "      <td>3.333333</td>\n",
       "      <td>-7.666666</td>\n",
       "      <td>7.555555</td>\n",
       "      <td>0.532628</td>\n",
       "      <td>-0.965946</td>\n",
       "      <td>0</td>\n",
       "    </tr>\n",
       "    <tr>\n",
       "      <th>3</th>\n",
       "      <td>34</td>\n",
       "      <td>137</td>\n",
       "      <td>0.0</td>\n",
       "      <td>0.000000</td>\n",
       "      <td>0.500000</td>\n",
       "      <td>0.166667</td>\n",
       "      <td>1.111111</td>\n",
       "      <td>0.474074</td>\n",
       "      <td>5.851852</td>\n",
       "      <td>7.777778</td>\n",
       "      <td>6.444445</td>\n",
       "      <td>3.333333</td>\n",
       "      <td>5.777778</td>\n",
       "      <td>1.777778</td>\n",
       "      <td>-7.555555</td>\n",
       "      <td>7.777778</td>\n",
       "      <td>0.573633</td>\n",
       "      <td>-0.744272</td>\n",
       "      <td>0</td>\n",
       "    </tr>\n",
       "    <tr>\n",
       "      <th>4</th>\n",
       "      <td>39</td>\n",
       "      <td>111</td>\n",
       "      <td>0.0</td>\n",
       "      <td>0.000000</td>\n",
       "      <td>0.722222</td>\n",
       "      <td>0.374074</td>\n",
       "      <td>0.888889</td>\n",
       "      <td>0.429629</td>\n",
       "      <td>6.037037</td>\n",
       "      <td>7.000000</td>\n",
       "      <td>7.666666</td>\n",
       "      <td>3.444444</td>\n",
       "      <td>2.888889</td>\n",
       "      <td>4.888889</td>\n",
       "      <td>-7.777778</td>\n",
       "      <td>7.888889</td>\n",
       "      <td>0.562919</td>\n",
       "      <td>-1.175773</td>\n",
       "      <td>0</td>\n",
       "    </tr>\n",
       "    <tr>\n",
       "      <th>...</th>\n",
       "      <td>...</td>\n",
       "      <td>...</td>\n",
       "      <td>...</td>\n",
       "      <td>...</td>\n",
       "      <td>...</td>\n",
       "      <td>...</td>\n",
       "      <td>...</td>\n",
       "      <td>...</td>\n",
       "      <td>...</td>\n",
       "      <td>...</td>\n",
       "      <td>...</td>\n",
       "      <td>...</td>\n",
       "      <td>...</td>\n",
       "      <td>...</td>\n",
       "      <td>...</td>\n",
       "      <td>...</td>\n",
       "      <td>...</td>\n",
       "      <td>...</td>\n",
       "      <td>...</td>\n",
       "    </tr>\n",
       "    <tr>\n",
       "      <th>415</th>\n",
       "      <td>225</td>\n",
       "      <td>58</td>\n",
       "      <td>0.0</td>\n",
       "      <td>0.000000</td>\n",
       "      <td>0.333334</td>\n",
       "      <td>0.421637</td>\n",
       "      <td>0.444444</td>\n",
       "      <td>0.344265</td>\n",
       "      <td>8.333333</td>\n",
       "      <td>5.555555</td>\n",
       "      <td>14.111111</td>\n",
       "      <td>5.333334</td>\n",
       "      <td>-8.333333</td>\n",
       "      <td>17.333334</td>\n",
       "      <td>-9.000000</td>\n",
       "      <td>14.111111</td>\n",
       "      <td>0.622222</td>\n",
       "      <td>-2.068564</td>\n",
       "      <td>6</td>\n",
       "    </tr>\n",
       "    <tr>\n",
       "      <th>416</th>\n",
       "      <td>170</td>\n",
       "      <td>154</td>\n",
       "      <td>0.0</td>\n",
       "      <td>0.000000</td>\n",
       "      <td>0.111111</td>\n",
       "      <td>0.172133</td>\n",
       "      <td>0.055556</td>\n",
       "      <td>0.136083</td>\n",
       "      <td>0.074074</td>\n",
       "      <td>0.000000</td>\n",
       "      <td>0.222222</td>\n",
       "      <td>0.000000</td>\n",
       "      <td>-0.222222</td>\n",
       "      <td>0.444444</td>\n",
       "      <td>-0.222222</td>\n",
       "      <td>0.222222</td>\n",
       "      <td>0.222222</td>\n",
       "      <td>-2.094395</td>\n",
       "      <td>6</td>\n",
       "    </tr>\n",
       "    <tr>\n",
       "      <th>417</th>\n",
       "      <td>238</td>\n",
       "      <td>61</td>\n",
       "      <td>0.0</td>\n",
       "      <td>0.000000</td>\n",
       "      <td>0.666667</td>\n",
       "      <td>0.471405</td>\n",
       "      <td>0.722222</td>\n",
       "      <td>0.490653</td>\n",
       "      <td>8.777778</td>\n",
       "      <td>5.888889</td>\n",
       "      <td>14.333333</td>\n",
       "      <td>6.111111</td>\n",
       "      <td>-8.666667</td>\n",
       "      <td>16.666666</td>\n",
       "      <td>-8.000000</td>\n",
       "      <td>14.333333</td>\n",
       "      <td>0.588823</td>\n",
       "      <td>-2.121837</td>\n",
       "      <td>6</td>\n",
       "    </tr>\n",
       "    <tr>\n",
       "      <th>418</th>\n",
       "      <td>189</td>\n",
       "      <td>62</td>\n",
       "      <td>0.0</td>\n",
       "      <td>0.000000</td>\n",
       "      <td>0.388889</td>\n",
       "      <td>0.250924</td>\n",
       "      <td>0.444444</td>\n",
       "      <td>0.344265</td>\n",
       "      <td>7.629630</td>\n",
       "      <td>5.000000</td>\n",
       "      <td>13.111111</td>\n",
       "      <td>4.777778</td>\n",
       "      <td>-7.888889</td>\n",
       "      <td>16.444445</td>\n",
       "      <td>-8.555555</td>\n",
       "      <td>13.111111</td>\n",
       "      <td>0.635938</td>\n",
       "      <td>-2.066953</td>\n",
       "      <td>6</td>\n",
       "    </tr>\n",
       "    <tr>\n",
       "      <th>419</th>\n",
       "      <td>242</td>\n",
       "      <td>57</td>\n",
       "      <td>0.0</td>\n",
       "      <td>0.111111</td>\n",
       "      <td>2.444444</td>\n",
       "      <td>2.353877</td>\n",
       "      <td>9.277778</td>\n",
       "      <td>2.760166</td>\n",
       "      <td>15.370370</td>\n",
       "      <td>11.333333</td>\n",
       "      <td>20.888890</td>\n",
       "      <td>13.888889</td>\n",
       "      <td>-12.111111</td>\n",
       "      <td>16.555555</td>\n",
       "      <td>-4.444445</td>\n",
       "      <td>20.888890</td>\n",
       "      <td>0.466308</td>\n",
       "      <td>-2.370613</td>\n",
       "      <td>6</td>\n",
       "    </tr>\n",
       "  </tbody>\n",
       "</table>\n",
       "<p>420 rows × 19 columns</p>\n",
       "</div>"
      ],
      "text/plain": [
       "       q    w    e         r         t         y         u         i  \\\n",
       "0    140  125  0.0  0.000000  0.277778  0.062963  0.666667  0.311111   \n",
       "1    188  133  0.0  0.000000  0.333333  0.266667  0.500000  0.077778   \n",
       "2    105  139  0.0  0.000000  0.277778  0.107407  0.833333  0.522222   \n",
       "3     34  137  0.0  0.000000  0.500000  0.166667  1.111111  0.474074   \n",
       "4     39  111  0.0  0.000000  0.722222  0.374074  0.888889  0.429629   \n",
       "..   ...  ...  ...       ...       ...       ...       ...       ...   \n",
       "415  225   58  0.0  0.000000  0.333334  0.421637  0.444444  0.344265   \n",
       "416  170  154  0.0  0.000000  0.111111  0.172133  0.055556  0.136083   \n",
       "417  238   61  0.0  0.000000  0.666667  0.471405  0.722222  0.490653   \n",
       "418  189   62  0.0  0.000000  0.388889  0.250924  0.444444  0.344265   \n",
       "419  242   57  0.0  0.111111  2.444444  2.353877  9.277778  2.760166   \n",
       "\n",
       "             o          p          a          s          d          f  \\\n",
       "0     6.185185   7.333334   7.666666   3.555556   3.444444   4.444445   \n",
       "1     6.666666   8.333334   7.777778   3.888889   5.000000   3.333333   \n",
       "2     6.111111   7.555555   7.222222   3.555556   4.333334   3.333333   \n",
       "3     5.851852   7.777778   6.444445   3.333333   5.777778   1.777778   \n",
       "4     6.037037   7.000000   7.666666   3.444444   2.888889   4.888889   \n",
       "..         ...        ...        ...        ...        ...        ...   \n",
       "415   8.333333   5.555555  14.111111   5.333334  -8.333333  17.333334   \n",
       "416   0.074074   0.000000   0.222222   0.000000  -0.222222   0.444444   \n",
       "417   8.777778   5.888889  14.333333   6.111111  -8.666667  16.666666   \n",
       "418   7.629630   5.000000  13.111111   4.777778  -7.888889  16.444445   \n",
       "419  15.370370  11.333333  20.888890  13.888889 -12.111111  16.555555   \n",
       "\n",
       "            g          h         j         k  l  \n",
       "0   -7.888889   7.777778  0.545635 -1.121818  0  \n",
       "1   -8.333333   8.444445  0.538580 -0.924817  0  \n",
       "2   -7.666666   7.555555  0.532628 -0.965946  0  \n",
       "3   -7.555555   7.777778  0.573633 -0.744272  0  \n",
       "4   -7.777778   7.888889  0.562919 -1.175773  0  \n",
       "..        ...        ...       ...       ... ..  \n",
       "415 -9.000000  14.111111  0.622222 -2.068564  6  \n",
       "416 -0.222222   0.222222  0.222222 -2.094395  6  \n",
       "417 -8.000000  14.333333  0.588823 -2.121837  6  \n",
       "418 -8.555555  13.111111  0.635938 -2.066953  6  \n",
       "419 -4.444445  20.888890  0.466308 -2.370613  6  \n",
       "\n",
       "[420 rows x 19 columns]"
      ]
     },
     "execution_count": 191,
     "metadata": {},
     "output_type": "execute_result"
    }
   ],
   "source": [
    "#Importamos el dataset para iniciar el análisis\n",
    "df = pd.read_csv(\"si.csv\", sep = \",\", na_values = \"Nothing\")\n",
    "#df = pd.read_csv(\"si.csv\", header = None, sep = \",\", na_values = \"Nothing\")\n",
    "\n",
    "\n",
    "df"
   ]
  },
  {
   "cell_type": "markdown",
   "metadata": {},
   "source": [
    "# Análisis de Datos"
   ]
  },
  {
   "cell_type": "code",
   "execution_count": 192,
   "metadata": {},
   "outputs": [
    {
     "name": "stdout",
     "output_type": "stream",
     "text": [
      "Información del Conjunto de Datos\n",
      "<class 'pandas.core.frame.DataFrame'>\n",
      "RangeIndex: 420 entries, 0 to 419\n",
      "Data columns (total 19 columns):\n",
      " #   Column  Non-Null Count  Dtype  \n",
      "---  ------  --------------  -----  \n",
      " 0   q       420 non-null    int64  \n",
      " 1   w       420 non-null    int64  \n",
      " 2   e       420 non-null    float64\n",
      " 3   r       420 non-null    float64\n",
      " 4   t       420 non-null    float64\n",
      " 5   y       420 non-null    float64\n",
      " 6   u       420 non-null    float64\n",
      " 7   i       420 non-null    float64\n",
      " 8   o       420 non-null    float64\n",
      " 9   p       420 non-null    float64\n",
      " 10  a       420 non-null    float64\n",
      " 11  s       420 non-null    float64\n",
      " 12  d       420 non-null    float64\n",
      " 13  f       420 non-null    float64\n",
      " 14  g       420 non-null    float64\n",
      " 15  h       420 non-null    float64\n",
      " 16  j       420 non-null    float64\n",
      " 17  k       420 non-null    float64\n",
      " 18  l       420 non-null    int64  \n",
      "dtypes: float64(16), int64(3)\n",
      "memory usage: 62.5 KB\n",
      "None\n"
     ]
    }
   ],
   "source": [
    "print(\"Información del Conjunto de Datos\")\n",
    "print(df.info())"
   ]
  },
  {
   "cell_type": "code",
   "execution_count": 193,
   "metadata": {},
   "outputs": [
    {
     "name": "stdout",
     "output_type": "stream",
     "text": [
      "Descripción del Conjunto de Datos:\n",
      "                q           w           e           r           t           y  \\\n",
      "count  420.000000  420.000000  420.000000  420.000000  420.000000  420.000000   \n",
      "mean   144.245238  142.345238    0.011905    0.005820    1.756878    3.465178   \n",
      "std     73.219449   60.798955    0.035253    0.029154    2.381124   30.810966   \n",
      "min      1.000000   11.000000    0.000000    0.000000    0.000000    0.000000   \n",
      "25%     85.000000   92.500000    0.000000    0.000000    0.666668    0.414811   \n",
      "50%    160.000000  152.000000    0.000000    0.000000    1.333334    0.923948   \n",
      "75%    205.000000  190.000000    0.000000    0.000000    2.166667    1.705687   \n",
      "max    253.000000  251.000000    0.222222    0.222222   25.500000  572.996400   \n",
      "\n",
      "                u            i           o           p           a  \\\n",
      "count  420.000000   420.000000  420.000000  420.000000  420.000000   \n",
      "mean     2.357937     6.538579   30.833069   27.335979   36.672752   \n",
      "std      3.651203    68.978325   31.442611   28.866983   36.478432   \n",
      "min      0.000000     0.000000    0.000000    0.000000    0.000000   \n",
      "25%      0.722222     0.429630    7.027778    6.111111    8.638889   \n",
      "50%      1.555556     1.068055   18.018518   15.222222   21.277777   \n",
      "75%      2.833333     1.968498   48.342592   43.805557   59.222220   \n",
      "max     44.722225  1386.329200  143.444440  136.888890  150.888890   \n",
      "\n",
      "                s           d           f           g           h           j  \\\n",
      "count  420.000000  420.000000  420.000000  420.000000  420.000000  420.000000   \n",
      "mean    28.490476  -10.491270   17.519048   -7.027778   38.026191    0.386370   \n",
      "std     29.422770    9.230572   18.381583   12.279930   35.632448    0.210381   \n",
      "min      0.000000  -48.222220  -12.444445  -30.555555    0.000000    0.000000   \n",
      "25%      4.638889  -14.694445    0.222222  -17.555555   11.444445    0.278784   \n",
      "50%     19.222221   -9.000000   16.611110   -8.555555   23.611112    0.312919   \n",
      "75%     41.916668   -4.888889   33.555557   -0.111111   59.222220    0.514630   \n",
      "max    142.555560    5.777778   78.777780   21.888890  150.888890    1.000000   \n",
      "\n",
      "                k           l  \n",
      "count  420.000000  420.000000  \n",
      "mean    -1.120130    3.733333  \n",
      "std      1.637908    1.801705  \n",
      "min     -2.530950    0.000000  \n",
      "25%     -2.094395    3.000000  \n",
      "50%     -1.995922    4.000000  \n",
      "75%     -0.700939    5.000000  \n",
      "max      2.864931    6.000000  \n"
     ]
    }
   ],
   "source": [
    "print(\"Descripción del Conjunto de Datos:\")\n",
    "print(df.describe())"
   ]
  },
  {
   "cell_type": "code",
   "execution_count": 194,
   "metadata": {},
   "outputs": [],
   "source": [
    "numAttri=18"
   ]
  },
  {
   "cell_type": "code",
   "execution_count": 195,
   "metadata": {},
   "outputs": [
    {
     "name": "stdout",
     "output_type": "stream",
     "text": [
      "Distribución de atributos:\n",
      "l\n",
      "0     30\n",
      "1     30\n",
      "2     30\n",
      "3     78\n",
      "4    119\n",
      "5     30\n",
      "6    103\n",
      "dtype: int64\n"
     ]
    }
   ],
   "source": [
    "print(\"Distribución de atributos:\")\n",
    "print(df.groupby(\"l\").size())"
   ]
  },
  {
   "cell_type": "code",
   "execution_count": 196,
   "metadata": {},
   "outputs": [
    {
     "data": {
      "image/png": "[encoded data removed]",
      "text/plain": [
       "<Figure size 432x288 with 1 Axes>"
      ]
     },
     "metadata": {
      "needs_background": "light"
     },
     "output_type": "display_data"
    }
   ],
   "source": [
    "########## VISUALIZAMOS LOS DATOS ##########\n",
    "import matplotlib.pyplot as plt\n",
    "\n",
    "\n",
    "fig = df[df.l == 6].plot(kind='scatter', \n",
    "          x='q', y='y', color='blue', label='6')\n",
    "df[df.l == 5].plot(kind='scatter', \n",
    "          x='q', y='h', color='yellow', label='5', ax=fig)\n",
    "df[df.l == 4].plot(kind='scatter', \n",
    "          x='u', y='d', color='orange', label='4', ax=fig)\n",
    "df[df.l == 3].plot(kind='scatter', \n",
    "          x='w', y='p', color='black', label='3', ax=fig)\n",
    "df[df.l == 2].plot(kind='scatter', \n",
    "          x='d', y='k', color='gray', label='2', ax=fig)\n",
    "df[df.l == 1].plot(kind='scatter', \n",
    "          x='f', y='j', color='green', label='1', ax=fig)\n",
    "df[df.l == 0].plot(kind='scatter', \n",
    "          x='i', y='o', color='red', label='0', ax=fig)\n",
    "\n",
    "fig.set_xlabel(\"Componente Principal 1\")\n",
    "fig.set_ylabel(\"Componente Principal 2\")\n",
    "plt.show()"
   ]
  },
  {
   "cell_type": "markdown",
   "metadata": {},
   "source": [
    "# Mostrar Datos"
   ]
  },
  {
   "cell_type": "code",
   "execution_count": 197,
   "metadata": {},
   "outputs": [
    {
     "data": {
      "image/png": "[encoded data removed]",
      "text/plain": [
       "<Figure size 432x288 with 1 Axes>"
      ]
     },
     "metadata": {
      "needs_background": "light"
     },
     "output_type": "display_data"
    }
   ],
   "source": [
    "import matplotlib.pyplot as plt\n",
    "\n",
    "fig = df[df.l == 6].plot(kind='scatter', \n",
    "          x='q', y='y', color='blue', label='6')\n",
    "df[df.l == 5].plot(kind='scatter', \n",
    "          x='q', y='h', color='yellow', label='5', ax=fig)\n",
    "df[df.l == 4].plot(kind='scatter', \n",
    "          x='u', y='d', color='orange', label='4', ax=fig)\n",
    "df[df.l == 3].plot(kind='scatter', \n",
    "          x='w', y='p', color='black', label='3', ax=fig)\n",
    "df[df.l == 2].plot(kind='scatter', \n",
    "          x='d', y='k', color='gray', label='2', ax=fig)\n",
    "df[df.l == 1].plot(kind='scatter', \n",
    "          x='f', y='j', color='green', label='1', ax=fig)\n",
    "df[df.l == 0].plot(kind='scatter', \n",
    "          x='i', y='o', color='red', label='0', ax=fig)\n",
    "\n",
    "fig.set_xlabel(\"Componente Principal 1\")\n",
    "fig.set_ylabel(\"Componente Principal 2\")\n",
    "plt.show()"
   ]
  },
  {
   "cell_type": "markdown",
   "metadata": {},
   "source": [
    "# Algoritmos de Machine Learning"
   ]
  },
  {
   "cell_type": "code",
   "execution_count": 198,
   "metadata": {},
   "outputs": [],
   "source": [
    "from sklearn.model_selection import train_test_split\n",
    "from sklearn.neighbors import KNeighborsClassifier\n",
    "from sklearn.tree import DecisionTreeClassifier\n",
    "from sklearn.naive_bayes import GaussianNB"
   ]
  },
  {
   "cell_type": "code",
   "execution_count": 199,
   "metadata": {},
   "outputs": [],
   "source": [
    "#Clasificadores con datos puros\n",
    "#Separo todos los datos con las características y los resultados\n",
    "#l=atributo a clasificar\n",
    "X = np.array(df.drop([\"l\"], 1))\n",
    "y = np.array(df[\"l\"])"
   ]
  },
  {
   "cell_type": "code",
   "execution_count": 200,
   "metadata": {},
   "outputs": [
    {
     "name": "stdout",
     "output_type": "stream",
     "text": [
      "Datos para Entrenamiento\n",
      "336\n",
      "Datos para prueba\n",
      "84\n"
     ]
    }
   ],
   "source": [
    "#Separo los datos de \"train\" en entrenamiento y prueba para testear los clasificadores\n",
    "X_train, X_test, y_train, y_test = train_test_split(X, y, test_size = 0.2)\n",
    "deTr=format(X_train.shape[0])\n",
    "deTe=format(X_test.shape[0])\n",
    "print(\"Datos para Entrenamiento\")\n",
    "print(deTr)\n",
    "print(\"Datos para prueba\")\n",
    "print(deTe)"
   ]
  },
  {
   "cell_type": "code",
   "execution_count": 201,
   "metadata": {},
   "outputs": [
    {
     "name": "stdout",
     "output_type": "stream",
     "text": [
      "Datos para Entrenamiento = 336 \n",
      "Datos para prueba = 84\n"
     ]
    }
   ],
   "source": [
    "#Separo los datos de \"train\" en entrenamiento y prueba para testear los clasificadores\n",
    "X_train, X_test, y_train, y_test = train_test_split(X, y, test_size = 0.2)\n",
    "print(\"Datos para Entrenamiento = {} \\nDatos para prueba = {}\".format(X_train.shape[0], X_test.shape[0]))"
   ]
  },
  {
   "cell_type": "markdown",
   "metadata": {},
   "source": [
    "# K Vecinos más Cercanos"
   ]
  },
  {
   "cell_type": "code",
   "execution_count": 202,
   "metadata": {},
   "outputs": [],
   "source": [
    "from sklearn.model_selection import train_test_split\n",
    "from sklearn.neighbors import KNeighborsClassifier\n",
    "from sklearn.metrics import confusion_matrix\n",
    "from sklearn.metrics import precision_score\n",
    "\n",
    "#Separo los datos de \"train\" en entrenamiento\n",
    "X_train, X_test, y_train, y_test = train_test_split(X, y, test_size=0.2)"
   ]
  },
  {
   "cell_type": "code",
   "execution_count": 203,
   "metadata": {},
   "outputs": [],
   "source": [
    "#Algoritmo\n",
    "kvc = KNeighborsClassifier(n_neighbors = 6,\n",
    "                           metric = \"minkowski\",\n",
    "                           p = 2)"
   ]
  },
  {
   "cell_type": "code",
   "execution_count": 204,
   "metadata": {},
   "outputs": [
    {
     "data": {
      "text/plain": [
       "KNeighborsClassifier(algorithm='auto', leaf_size=30, metric='minkowski',\n",
       "                     metric_params=None, n_jobs=None, n_neighbors=6, p=2,\n",
       "                     weights='uniform')"
      ]
     },
     "execution_count": 204,
     "metadata": {},
     "output_type": "execute_result"
    }
   ],
   "source": [
    "#Lo Entreno\n",
    "kvc.fit(X_train, y_train)"
   ]
  },
  {
   "cell_type": "code",
   "execution_count": 205,
   "metadata": {},
   "outputs": [],
   "source": [
    "#Predicción\n",
    "y_pred = kvc.predict(X_test)"
   ]
  },
  {
   "cell_type": "code",
   "execution_count": 206,
   "metadata": {},
   "outputs": [
    {
     "name": "stdout",
     "output_type": "stream",
     "text": [
      "Matriz de Confusión:\n",
      "[[ 4  0  0  0  0  0  1]\n",
      " [ 1  5  0  0  0  0  0]\n",
      " [ 2  0  1  0  0  0  1]\n",
      " [ 0  0  0 15  0  0  0]\n",
      " [ 0  0  0  0 25  0  0]\n",
      " [ 0  0  0  0  0 10  0]\n",
      " [ 1  1  1  0  0  0 16]]\n"
     ]
    }
   ],
   "source": [
    "#Matriz de Confusión, para ver que tan bien o mal se clasificó\n",
    "matrizKV = confusion_matrix(y_test, y_pred)\n",
    "print(\"Matriz de Confusión:\")\n",
    "\n",
    "print(matrizKV)"
   ]
  },
  {
   "cell_type": "code",
   "execution_count": 207,
   "metadata": {},
   "outputs": [
    {
     "name": "stdout",
     "output_type": "stream",
     "text": [
      "Precisión K-Vecinos más Cercanos=\n",
      "0.9047619047619048\n"
     ]
    }
   ],
   "source": [
    "#Precisión Entrenamiento\n",
    "preKVCE=format(kvc.score(X_test, y_test))\n",
    "print(\"Precisión K-Vecinos más Cercanos=\")\n",
    "print(preKVCE)"
   ]
  },
  {
   "cell_type": "code",
   "execution_count": 208,
   "metadata": {},
   "outputs": [
    {
     "name": "stdout",
     "output_type": "stream",
     "text": [
      "Precisión K-Vecinos más Cercanos=\n",
      "0.9047619047619048\n"
     ]
    }
   ],
   "source": [
    "#Precisión Prueba\n",
    "preKVCP=format(kvc.score(X_test, y_test))\n",
    "print(\"Precisión K-Vecinos más Cercanos=\")\n",
    "print(preKVCP)"
   ]
  },
  {
   "cell_type": "code",
   "execution_count": 209,
   "metadata": {},
   "outputs": [
    {
     "name": "stdout",
     "output_type": "stream",
     "text": [
      "Precisiones: [0.94117647 0.91176471 0.85294118 0.94117647 0.94117647 0.79411765\n",
      " 0.93939394 0.96969697 0.90909091 0.96969697]\n",
      "Precisión promedio:  0.917 +/-  0.052\n"
     ]
    }
   ],
   "source": [
    "#Validación Cruzada Entrenamiento\n",
    "import sklearn\n",
    "precision = sklearn.model_selection.cross_val_score(estimator=kvc,\n",
    "                                            X=X_train, y=y_train,\n",
    "                                            cv=10, n_jobs=-1)\n",
    "\n",
    "print(\"Precisiones: {}\".format(precision))\n",
    "print(\"Precisión promedio: {0: .3f} +/- {1: .3f}\".format(np.mean(precision),\n",
    "                                          np.std(precision)))"
   ]
  },
  {
   "cell_type": "code",
   "execution_count": 210,
   "metadata": {},
   "outputs": [
    {
     "name": "stdout",
     "output_type": "stream",
     "text": [
      "Precisiones: [0.78571429 0.5952381 ]\n",
      "Precisión promedio:  0.690 +/-  0.095\n"
     ]
    }
   ],
   "source": [
    "#Validación Cruzada Prueba\n",
    "import sklearn\n",
    "precision = sklearn.model_selection.cross_val_score(estimator=kvc,\n",
    "                                            X=X_test, y=y_test,\n",
    "                                            cv=2, n_jobs=-1)\n",
    "\n",
    "print(\"Precisiones: {}\".format(precision))\n",
    "print(\"Precisión promedio: {0: .3f} +/- {1: .3f}\".format(np.mean(precision),\n",
    "                                          np.std(precision)))"
   ]
  },
  {
   "cell_type": "code",
   "execution_count": 211,
   "metadata": {},
   "outputs": [
    {
     "data": {
      "image/png": "[encoded data removed]",
      "text/plain": [
       "<Figure size 432x288 with 1 Axes>"
      ]
     },
     "metadata": {
      "needs_background": "light"
     },
     "output_type": "display_data"
    }
   ],
   "source": [
    "# Grafico de ajuste de K Vecinos más Cercanos\n",
    "k_range = range(1, 20)\n",
    "eval_prec = []\n",
    "train_prec = []\n",
    "for k in k_range:\n",
    "    knn = KNeighborsClassifier(n_neighbors = k)\n",
    "    knn.fit(X_train, y_train)\n",
    "    train_prec.append(knn.score(X_train, y_train))\n",
    "    eval_prec.append(knn.score(X_test, y_test))\n",
    "    \n",
    "# Resultados.\n",
    "plt.plot(train_prec, color=\"green\", label=\"Entrenamiento\")\n",
    "plt.plot(eval_prec, color=\"cyan\", label=\"Prueba\")\n",
    "plt.title(\"Ajuste K Vecinos más Cercanos\")\n",
    "plt.legend()\n",
    "plt.xlabel(\"Número de nodos\")\n",
    "plt.ylabel(\"Precisión\")\n",
    "plt.show()"
   ]
  },
  {
   "cell_type": "markdown",
   "metadata": {},
   "source": [
    "# Navie Bayes"
   ]
  },
  {
   "cell_type": "code",
   "execution_count": 212,
   "metadata": {},
   "outputs": [],
   "source": [
    "from sklearn.model_selection import train_test_split\n",
    "from sklearn.naive_bayes import GaussianNB\n",
    "from sklearn.metrics import confusion_matrix\n",
    "from sklearn.metrics import precision_score\n",
    "\n",
    "#Separo los datos de \"train\" en entrenamiento\n",
    "X_train, X_test, y_train, y_test = train_test_split(X, y, test_size=0.2)"
   ]
  },
  {
   "cell_type": "code",
   "execution_count": 213,
   "metadata": {},
   "outputs": [],
   "source": [
    "gnb = GaussianNB()"
   ]
  },
  {
   "cell_type": "code",
   "execution_count": 214,
   "metadata": {},
   "outputs": [
    {
     "data": {
      "text/plain": [
       "GaussianNB(priors=None, var_smoothing=1e-09)"
      ]
     },
     "execution_count": 214,
     "metadata": {},
     "output_type": "execute_result"
    }
   ],
   "source": [
    "#Lo Entreno\n",
    "gnb.fit(X_train, y_train)"
   ]
  },
  {
   "cell_type": "code",
   "execution_count": 215,
   "metadata": {},
   "outputs": [],
   "source": [
    "#Predicción\n",
    "y_pred = gnb.predict(X_test)"
   ]
  },
  {
   "cell_type": "code",
   "execution_count": 216,
   "metadata": {},
   "outputs": [
    {
     "name": "stdout",
     "output_type": "stream",
     "text": [
      "Matriz de Confusión:\n",
      "[[ 5  1  0  0  0  0  1]\n",
      " [ 0  1  0  0  1  0  0]\n",
      " [ 0  2  3  0  0  0  2]\n",
      " [ 0  0  0 16  0  0  0]\n",
      " [ 0  4  0  0 19  0  0]\n",
      " [ 0  0  0  0  0  9  0]\n",
      " [ 0  0  1  0  0  0 19]]\n"
     ]
    }
   ],
   "source": [
    "#Matriz de Confusión, para ver que tan bien o mal se clasificó\n",
    "matrizGNB = confusion_matrix(y_test, y_pred)\n",
    "print(\"Matriz de Confusión:\")\n",
    "print(matrizGNB)\n"
   ]
  },
  {
   "cell_type": "code",
   "execution_count": 217,
   "metadata": {},
   "outputs": [
    {
     "name": "stdout",
     "output_type": "stream",
     "text": [
      "Precisión Navie Bayes=\n",
      "0.8809523809523809\n"
     ]
    }
   ],
   "source": [
    "#Precisión Entrenamiento\n",
    "preGNBE = format(gnb.score(X_train, y_train))\n",
    "print(\"Precisión Navie Bayes=\")\n",
    "print(preGNBE)"
   ]
  },
  {
   "cell_type": "code",
   "execution_count": 218,
   "metadata": {},
   "outputs": [
    {
     "name": "stdout",
     "output_type": "stream",
     "text": [
      "Precisión Navie Bayes=\n",
      "0.8571428571428571\n"
     ]
    }
   ],
   "source": [
    "#Precisión Prueba\n",
    "preGNBP = format(gnb.score(X_test, y_test))\n",
    "print(\"Precisión Navie Bayes=\")\n",
    "print(preGNBP)"
   ]
  },
  {
   "cell_type": "code",
   "execution_count": 219,
   "metadata": {},
   "outputs": [
    {
     "data": {
      "image/png": "[encoded data removed]",
      "text/plain": [
       "<Figure size 432x288 with 1 Axes>"
      ]
     },
     "metadata": {
      "needs_background": "light"
     },
     "output_type": "display_data"
    }
   ],
   "source": [
    "# Grafico de ajuste de K Vecinos más Cercanos\n",
    "k_range = range(1, 20)\n",
    "eval_prec = []\n",
    "train_prec = []\n",
    "for k in k_range:\n",
    "    gnb = GaussianNB()\n",
    "    gnb.fit(X_train, y_train)\n",
    "    train_prec.append(gnb.score(X_train, y_train))\n",
    "    eval_prec.append(gnb.score(X_test, y_test))\n",
    "# Resultados.\n",
    "plt.plot(train_prec, color=\"green\", label=\"Entrenamiento\")\n",
    "plt.plot(eval_prec, color=\"cyan\", label=\"Prueba\")\n",
    "plt.title(\"Ajuste K Vecinos más Cercanos\")\n",
    "plt.legend()\n",
    "plt.xlabel(\"Número de nodos\")\n",
    "plt.ylabel(\"Precisión\")\n",
    "plt.show()"
   ]
  },
  {
   "cell_type": "code",
   "execution_count": 220,
   "metadata": {},
   "outputs": [
    {
     "name": "stdout",
     "output_type": "stream",
     "text": [
      "Precisiones: [0.76470588 0.79411765 0.88235294 0.85294118 0.88235294 0.88235294\n",
      " 0.81818182 0.90909091 0.81818182 0.87878788]\n",
      "Precisión promedio:  0.848 +/-  0.045\n"
     ]
    }
   ],
   "source": [
    "#Validación Cruzada Entrenamiento\n",
    "import sklearn\n",
    "precision = sklearn.model_selection.cross_val_score(estimator=gnb,\n",
    "                                            X=X_train, y=y_train,\n",
    "                                            cv=10, n_jobs=-1)\n",
    "\n",
    "print(\"Precisiones: {}\".format(precision))\n",
    "print(\"Precisión promedio: {0: .3f} +/- {1: .3f}\".format(np.mean(precision),\n",
    "                                          np.std(precision)))"
   ]
  },
  {
   "cell_type": "code",
   "execution_count": 221,
   "metadata": {},
   "outputs": [
    {
     "name": "stdout",
     "output_type": "stream",
     "text": [
      "Precisiones: [0.88095238 0.9047619 ]\n",
      "Precisión promedio:  0.893 +/-  0.012\n"
     ]
    }
   ],
   "source": [
    "#Validación Cruzada Prueba\n",
    "import sklearn\n",
    "precision = sklearn.model_selection.cross_val_score(estimator=gnb,\n",
    "                                            X=X_test, y=y_test,\n",
    "                                            cv=2, n_jobs=-1)\n",
    "\n",
    "print(\"Precisiones: {}\".format(precision))\n",
    "print(\"Precisión promedio: {0: .3f} +/- {1: .3f}\".format(np.mean(precision),\n",
    "                                          np.std(precision)))"
   ]
  },
  {
   "cell_type": "markdown",
   "metadata": {},
   "source": [
    "# Árboles de Decisión Clasificación"
   ]
  },
  {
   "cell_type": "code",
   "execution_count": 222,
   "metadata": {},
   "outputs": [],
   "source": [
    "from sklearn.model_selection import train_test_split\n",
    "from sklearn.tree import DecisionTreeClassifier\n",
    "from sklearn.metrics import confusion_matrix\n",
    "from sklearn.metrics import precision_score\n",
    "\n",
    "#Separo los datos de \"train\" en entrenamiento\n",
    "X_train, X_test, y_train, y_test = train_test_split(X, y, test_size=0.2)"
   ]
  },
  {
   "cell_type": "code",
   "execution_count": 223,
   "metadata": {},
   "outputs": [],
   "source": [
    "ad = DecisionTreeClassifier(criterion = \"entropy\")"
   ]
  },
  {
   "cell_type": "code",
   "execution_count": 224,
   "metadata": {},
   "outputs": [
    {
     "name": "stdout",
     "output_type": "stream",
     "text": [
      "Precisión entranamiento:  0.97\n"
     ]
    }
   ],
   "source": [
    "arbol2 = DecisionTreeClassifier(criterion = \"entropy\", max_depth=5)#Profundidad\n",
    "arbol2.fit(X_train, y_train)\n",
    "\n",
    "# Precisión del modelo en datos de entrenamiento(EJEMPLO).\n",
    "print(\"Precisión entranamiento: {0: .2f}\".format(\n",
    "        arbol2.score(X_train, y_train)))"
   ]
  },
  {
   "cell_type": "code",
   "execution_count": 225,
   "metadata": {},
   "outputs": [
    {
     "data": {
      "text/plain": [
       "DecisionTreeClassifier(ccp_alpha=0.0, class_weight=None, criterion='entropy',\n",
       "                       max_depth=None, max_features=None, max_leaf_nodes=None,\n",
       "                       min_impurity_decrease=0.0, min_impurity_split=None,\n",
       "                       min_samples_leaf=1, min_samples_split=2,\n",
       "                       min_weight_fraction_leaf=0.0, presort='deprecated',\n",
       "                       random_state=None, splitter='best')"
      ]
     },
     "execution_count": 225,
     "metadata": {},
     "output_type": "execute_result"
    }
   ],
   "source": [
    "#Lo Entreno\n",
    "ad.fit(X_train, y_train)"
   ]
  },
  {
   "cell_type": "code",
   "execution_count": 226,
   "metadata": {},
   "outputs": [],
   "source": [
    "#Predicción\n",
    "y_pred = ad.predict(X_test)"
   ]
  },
  {
   "cell_type": "code",
   "execution_count": 227,
   "metadata": {},
   "outputs": [
    {
     "name": "stdout",
     "output_type": "stream",
     "text": [
      "Matriz de Confusión:\n",
      "[[ 5  0  0  0  0  0  0]\n",
      " [ 0  6  0  0  0  0  3]\n",
      " [ 0  0  6  0  0  0  1]\n",
      " [ 0  0  0 14  0  0  1]\n",
      " [ 0  0  0  0 23  0  0]\n",
      " [ 0  0  0  0  0  4  0]\n",
      " [ 0  1  0  0  0  0 20]]\n"
     ]
    }
   ],
   "source": [
    "#Matriz de Confusión, para ver que tan bien o mal se clasificó\n",
    "matrizAD = confusion_matrix(y_test, y_pred)\n",
    "print(\"Matriz de Confusión:\")\n",
    "print(matrizAD)"
   ]
  },
  {
   "cell_type": "code",
   "execution_count": 249,
   "metadata": {},
   "outputs": [],
   "source": [
    "#Precisión Entrenamiento\n",
    "#preADE = precision_score(y_train, y_pred, average=\"macro\")#Ponderado\n",
    "#print(\"Precisión Árbol de Decisión:\")\n",
    "#print(preAD)"
   ]
  },
  {
   "cell_type": "code",
   "execution_count": 229,
   "metadata": {},
   "outputs": [
    {
     "name": "stdout",
     "output_type": "stream",
     "text": [
      "Precisión Árbol de Decisión:\n",
      "0.9346938775510205\n"
     ]
    }
   ],
   "source": [
    "#Precisión Prueba\n",
    "preADP = precision_score(y_test, y_pred, average=\"weighted\")#Ponderado\n",
    "print(\"Precisión Árbol de Decisión:\")\n",
    "print(preADP)"
   ]
  },
  {
   "cell_type": "code",
   "execution_count": 230,
   "metadata": {},
   "outputs": [
    {
     "name": "stdout",
     "output_type": "stream",
     "text": [
      "Precisiones: [0.94117647 0.97058824 0.88235294 0.85294118 0.91176471 0.94117647\n",
      " 0.93939394 0.90909091 0.93939394 0.90909091]\n",
      "Precision promedio:  0.920 +/-  0.032\n"
     ]
    }
   ],
   "source": [
    "#Validación Cruzada Entrenamiento\n",
    "import sklearn\n",
    "precision = sklearn.model_selection.cross_val_score(estimator=arbol2,\n",
    "                                            X=X_train, y=y_train,\n",
    "                                            cv=10, n_jobs=-1)\n",
    "\n",
    "print(\"Precisiones: {}\".format(precision))\n",
    "print(\"Precision promedio: {0: .3f} +/- {1: .3f}\".format(np.mean(precision),\n",
    "                                          np.std(precision)))"
   ]
  },
  {
   "cell_type": "code",
   "execution_count": 231,
   "metadata": {},
   "outputs": [
    {
     "name": "stdout",
     "output_type": "stream",
     "text": [
      "Precisiones: [0.80952381 0.80952381]\n",
      "Precisión promedio:  0.810 +/-  0.000\n"
     ]
    }
   ],
   "source": [
    "#Validación Cruzada Prueba\n",
    "import sklearn\n",
    "precision = sklearn.model_selection.cross_val_score(estimator=arbol2,\n",
    "                                            X=X_test, y=y_test,\n",
    "                                            cv=2, n_jobs=-1)\n",
    "\n",
    "print(\"Precisiones: {}\".format(precision))\n",
    "print(\"Precisión promedio: {0: .3f} +/- {1: .3f}\".format(np.mean(precision),\n",
    "                                          np.std(precision)))"
   ]
  },
  {
   "cell_type": "code",
   "execution_count": 232,
   "metadata": {},
   "outputs": [
    {
     "data": {
      "image/png": "[encoded data removed]",
      "text/plain": [
       "<Figure size 432x288 with 1 Axes>"
      ]
     },
     "metadata": {
      "needs_background": "light"
     },
     "output_type": "display_data"
    }
   ],
   "source": [
    "# Gráfico de ajuste del Árbol de Decisión\n",
    "train_prec =  []\n",
    "eval_prec = []\n",
    "max_deep_list = list(range(3, 20))\n",
    "\n",
    "for deep in max_deep_list:\n",
    "    arbol3 = DecisionTreeClassifier(criterion=\"entropy\", max_depth=deep)\n",
    "    arbol3.fit(X_train, y_train)\n",
    "    train_prec.append(arbol3.score(X_train, y_train))\n",
    "    eval_prec.append(arbol3.score(X_test, y_test))\n",
    "\n",
    "# Resultados.\n",
    "plt.plot(max_deep_list, train_prec, color=\"green\", label=\"Entrenamiento\")\n",
    "plt.plot(max_deep_list, eval_prec, color=\"cyan\", label=\"Prueba\")\n",
    "plt.title(\"Ajuste árbol de Decisión\")\n",
    "plt.legend()\n",
    "plt.ylabel(\"Precisión\")\n",
    "plt.xlabel(\"Número de nodos\")\n",
    "plt.show()"
   ]
  },
  {
   "cell_type": "code",
   "execution_count": 233,
   "metadata": {},
   "outputs": [
    {
     "data": {
      "text/plain": [
       "7"
      ]
     },
     "execution_count": 233,
     "metadata": {},
     "output_type": "execute_result"
    }
   ],
   "source": [
    "ad.tree_.max_depth\n"
   ]
  },
  {
   "cell_type": "code",
   "execution_count": 238,
   "metadata": {},
   "outputs": [],
   "source": [
    "from sklearn.tree import DecisionTreeClassifier\n",
    "from sklearn.datasets import load_iris, load_breast_cancer\n",
    "from sklearn.model_selection import train_test_split\n",
    "import graphviz\n",
    "from sklearn.tree import export_graphviz\n",
    "import pandas as pd\n",
    "import matplotlib.pyplot as plt\n",
    "import numpy as np\n",
    "import os\n",
    "os.environ[\"PATH\"] += os.pathsep + \"C:/Program Files (x86)/Graphviz2.38/bin/\""
   ]
  },
  {
   "cell_type": "code",
   "execution_count": 248,
   "metadata": {},
   "outputs": [
    {
     "ename": "AttributeError",
     "evalue": "'DataFrame' object has no attribute 'data'",
     "output_type": "error",
     "traceback": [
      "\u001b[1;31m---------------------------------------------------------------------------\u001b[0m",
      "\u001b[1;31mAttributeError\u001b[0m                            Traceback (most recent call last)",
      "\u001b[1;32m<ipython-input-248-01942796f6d3>\u001b[0m in \u001b[0;36m<module>\u001b[1;34m\u001b[0m\n\u001b[0;32m      7\u001b[0m \u001b[1;31m# Load in the dataset from sklearn\u001b[0m\u001b[1;33m\u001b[0m\u001b[1;33m\u001b[0m\u001b[1;33m\u001b[0m\u001b[0m\n\u001b[0;32m      8\u001b[0m \u001b[0mdataset\u001b[0m \u001b[1;33m=\u001b[0m \u001b[0mdf\u001b[0m\u001b[1;33m\u001b[0m\u001b[1;33m\u001b[0m\u001b[0m\n\u001b[1;32m----> 9\u001b[1;33m \u001b[0mX\u001b[0m \u001b[1;33m=\u001b[0m \u001b[0mdataset\u001b[0m\u001b[1;33m.\u001b[0m\u001b[0mdata\u001b[0m\u001b[1;33m\u001b[0m\u001b[1;33m\u001b[0m\u001b[0m\n\u001b[0m\u001b[0;32m     10\u001b[0m \u001b[0my\u001b[0m \u001b[1;33m=\u001b[0m \u001b[0mdataset\u001b[0m\u001b[1;33m.\u001b[0m\u001b[0mtarget\u001b[0m\u001b[1;33m\u001b[0m\u001b[1;33m\u001b[0m\u001b[0m\n\u001b[0;32m     11\u001b[0m \u001b[0mcol_names\u001b[0m \u001b[1;33m=\u001b[0m \u001b[0mdataset\u001b[0m\u001b[1;33m.\u001b[0m\u001b[0mfeature_names\u001b[0m\u001b[1;33m\u001b[0m\u001b[1;33m\u001b[0m\u001b[0m\n",
      "\u001b[1;32m~\\anaconda3\\lib\\site-packages\\pandas\\core\\generic.py\u001b[0m in \u001b[0;36m__getattr__\u001b[1;34m(self, name)\u001b[0m\n\u001b[0;32m   5272\u001b[0m             \u001b[1;32mif\u001b[0m \u001b[0mself\u001b[0m\u001b[1;33m.\u001b[0m\u001b[0m_info_axis\u001b[0m\u001b[1;33m.\u001b[0m\u001b[0m_can_hold_identifiers_and_holds_name\u001b[0m\u001b[1;33m(\u001b[0m\u001b[0mname\u001b[0m\u001b[1;33m)\u001b[0m\u001b[1;33m:\u001b[0m\u001b[1;33m\u001b[0m\u001b[1;33m\u001b[0m\u001b[0m\n\u001b[0;32m   5273\u001b[0m                 \u001b[1;32mreturn\u001b[0m \u001b[0mself\u001b[0m\u001b[1;33m[\u001b[0m\u001b[0mname\u001b[0m\u001b[1;33m]\u001b[0m\u001b[1;33m\u001b[0m\u001b[1;33m\u001b[0m\u001b[0m\n\u001b[1;32m-> 5274\u001b[1;33m             \u001b[1;32mreturn\u001b[0m \u001b[0mobject\u001b[0m\u001b[1;33m.\u001b[0m\u001b[0m__getattribute__\u001b[0m\u001b[1;33m(\u001b[0m\u001b[0mself\u001b[0m\u001b[1;33m,\u001b[0m \u001b[0mname\u001b[0m\u001b[1;33m)\u001b[0m\u001b[1;33m\u001b[0m\u001b[1;33m\u001b[0m\u001b[0m\n\u001b[0m\u001b[0;32m   5275\u001b[0m \u001b[1;33m\u001b[0m\u001b[0m\n\u001b[0;32m   5276\u001b[0m     \u001b[1;32mdef\u001b[0m \u001b[0m__setattr__\u001b[0m\u001b[1;33m(\u001b[0m\u001b[0mself\u001b[0m\u001b[1;33m,\u001b[0m \u001b[0mname\u001b[0m\u001b[1;33m:\u001b[0m \u001b[0mstr\u001b[0m\u001b[1;33m,\u001b[0m \u001b[0mvalue\u001b[0m\u001b[1;33m)\u001b[0m \u001b[1;33m->\u001b[0m \u001b[1;32mNone\u001b[0m\u001b[1;33m:\u001b[0m\u001b[1;33m\u001b[0m\u001b[1;33m\u001b[0m\u001b[0m\n",
      "\u001b[1;31mAttributeError\u001b[0m: 'DataFrame' object has no attribute 'data'"
     ]
    }
   ],
   "source": [
    "import pydotplus\n",
    "import os\n",
    "os.environ[\"PATH\"] += os.pathsep + \"C:/Program Files (x86)/Graphviz2.38/bin/\"\n",
    "from sklearn.datasets import load_breast_cancer\n",
    "from sklearn.tree import DecisionTreeClassifier, export_graphviz\n",
    "\n",
    "# Load in the dataset from sklearn\n",
    "dataset = load_breast_cancer()\n",
    "X = dataset.data\n",
    "y = dataset.target\n",
    "col_names = dataset.feature_names\n",
    "\n",
    "# Create and fit the decision tree\n",
    "clf_dt = DecisionTreeClassifier(criterion = 'gini', max_depth = )\n",
    "clf_dt.fit(X_train, y_train)\n",
    "\n",
    "# Export resulting tree to DOT source code string\n",
    "dot_data = export_graphviz(clf_dt,\n",
    "                                feature_names=col_names,\n",
    "                                out_file=None,\n",
    "                                filled=True,\n",
    "                                rounded=True)\n",
    "\n",
    "pydot_graph = pydotplus.graph_from_dot_data(dot_data)\n",
    "pydot_graph.write_png('original_tree.png')\n",
    "pydot_graph.set_size('\"10,10!\"')\n",
    "pydot_graph.write_png('resized_tree.png')"
   ]
  },
  {
   "cell_type": "code",
   "execution_count": null,
   "metadata": {},
   "outputs": [],
   "source": []
  },
  {
   "cell_type": "code",
   "execution_count": null,
   "metadata": {},
   "outputs": [],
   "source": []
  }
 ],
 "metadata": {
  "kernelspec": {
   "display_name": "Python 3",
   "language": "python",
   "name": "python3"
  },
  "language_info": {
   "codemirror_mode": {
    "name": "ipython",
    "version": 3
   },
   "file_extension": ".py",
   "mimetype": "text/x-python",
   "name": "python",
   "nbconvert_exporter": "python",
   "pygments_lexer": "ipython3",
   "version": "3.7.6"
  }
 },
 "nbformat": 4,
 "nbformat_minor": 4
}
